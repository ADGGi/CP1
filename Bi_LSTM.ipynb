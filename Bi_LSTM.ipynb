{
  "nbformat": 4,
  "nbformat_minor": 0,
  "metadata": {
    "colab": {
      "name": "Bi_LSTM.ipynb",
      "provenance": [],
      "collapsed_sections": [],
      "mount_file_id": "1tLAdXmX07qvYGCRI9T_dQR4qyAM4d6D8",
      "authorship_tag": "ABX9TyP3MlgOp6zWW+GgJNFT2stk",
      "include_colab_link": true
    },
    "kernelspec": {
      "name": "python3",
      "display_name": "Python 3"
    },
    "language_info": {
      "name": "python"
    },
    "accelerator": "GPU"
  },
  "cells": [
    {
      "cell_type": "markdown",
      "metadata": {
        "id": "view-in-github",
        "colab_type": "text"
      },
      "source": [
        "<a href=\"https://colab.research.google.com/github/ADGGi/CP1/blob/main/Bi_LSTM.ipynb\" target=\"_parent\"><img src=\"https://colab.research.google.com/assets/colab-badge.svg\" alt=\"Open In Colab\"/></a>"
      ]
    },
    {
      "cell_type": "code",
      "source": [
        "from google.colab import files\n",
        "myfile = files.upload()"
      ],
      "metadata": {
        "colab": {
          "resources": {
            "http://localhost:8080/nbextensions/google.colab/files.js": {
              "data": "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",
              "ok": true,
              "headers": [
                [
                  "content-type",
                  "application/javascript"
                ]
              ],
              "status": 200,
              "status_text": ""
            }
          },
          "base_uri": "https://localhost:8080/",
          "height": 56
        },
        "id": "L6RNkXq9i_xQ",
        "outputId": "7e55ef7c-a12a-45bb-a77a-cafb78ccfe4c"
      },
      "execution_count": null,
      "outputs": [
        {
          "output_type": "display_data",
          "data": {
            "text/html": [
              "\n",
              "     <input type=\"file\" id=\"files-fbb476c0-9c05-4bf0-9835-0d9a92411deb\" name=\"files[]\" multiple disabled\n",
              "        style=\"border:none\" />\n",
              "     <output id=\"result-fbb476c0-9c05-4bf0-9835-0d9a92411deb\">\n",
              "      Upload widget is only available when the cell has been executed in the\n",
              "      current browser session. Please rerun this cell to enable.\n",
              "      </output>\n",
              "      <script src=\"/nbextensions/google.colab/files.js\"></script> "
            ],
            "text/plain": [
              "<IPython.core.display.HTML object>"
            ]
          },
          "metadata": {}
        },
        {
          "output_type": "stream",
          "name": "stdout",
          "text": [
            "Saving model_data.csv to model_data.csv\n"
          ]
        }
      ]
    },
    {
      "cell_type": "code",
      "execution_count": null,
      "metadata": {
        "colab": {
          "base_uri": "https://localhost:8080/"
        },
        "id": "wZkA8nzAzPmT",
        "outputId": "0f278c54-580b-4330-b313-f36c3abb1673"
      },
      "outputs": [
        {
          "output_type": "stream",
          "name": "stdout",
          "text": [
            "data shape : (53174, 2)\n",
            "X_train shape : (42539, 400)\n",
            "y_train shape : (42539,)\n",
            "\n",
            "X_test shape : (10635, 400)\n",
            "y_test shape : (10635,)\n"
          ]
        }
      ],
      "source": [
        "#데이터 불러오기\n",
        "import numpy as np\n",
        "import pandas as pd\n",
        "\n",
        "X_train = np.load('/content/drive/MyDrive/project1/dataset/arrayset/X_train.npy')\n",
        "X_test = np.load('/content/drive/MyDrive/project1/dataset/arrayset/X_test.npy')\n",
        "\n",
        "y_train = np.load('/content/drive/MyDrive/project1/dataset/arrayset/y_train.npy')\n",
        "y_test = np.load('/content/drive/MyDrive/project1/dataset/arrayset/y_test.npy')\n",
        "\n",
        "X_train_smote = np.load('/content/drive/MyDrive/project1/dataset/arrayset/X_train_smote.npy')\n",
        "y_train_smote = np.load('/content/drive/MyDrive/project1/dataset/arrayset/y_train_smote.npy')\n",
        "\n",
        "df = pd.read_csv('/content/model_data.csv')\n",
        "df = df[['comments', 'label']]\n",
        "print('data shape :', df.shape)\n",
        "\n",
        "print('X_train shape :', X_train.shape)\n",
        "print('y_train shape :', y_train.shape)\n",
        "\n",
        "print('\\nX_test shape :', X_test.shape)\n",
        "print('y_test shape :', y_test.shape)"
      ]
    },
    {
      "cell_type": "code",
      "source": [
        "from tensorflow.keras.callbacks import EarlyStopping, ModelCheckpoint\n",
        "from tensorflow.keras.optimizers import Adam\n",
        "from tensorflow.keras.preprocessing.text import Tokenizer\n",
        "from sklearn.metrics import f1_score, roc_auc_score, roc_curve\n",
        "from tensorflow.keras.layers import Embedding, LSTM, Bidirectional, Dense, Dropout\n",
        "from tensorflow.keras.models import Sequential, load_model\n",
        "from tqdm import tqdm_notebook\n",
        "from sklearn.model_selection import StratifiedKFold"
      ],
      "metadata": {
        "id": "ktZlEmhJ2J1K"
      },
      "execution_count": null,
      "outputs": []
    },
    {
      "cell_type": "code",
      "source": [
        "train_token = pd.read_csv('/content/drive/MyDrive/project1/train_token.csv')\n",
        "train_token.head()"
      ],
      "metadata": {
        "colab": {
          "base_uri": "https://localhost:8080/",
          "height": 206
        },
        "id": "42HqlxSbLQeb",
        "outputId": "21629fb4-24b6-4f35-f36b-dbb94d7d2876"
      },
      "execution_count": null,
      "outputs": [
        {
          "output_type": "execute_result",
          "data": {
            "text/html": [
              "\n",
              "  <div id=\"df-37e9418c-c8bd-4dd7-8dc2-10f97085f657\">\n",
              "    <div class=\"colab-df-container\">\n",
              "      <div>\n",
              "<style scoped>\n",
              "    .dataframe tbody tr th:only-of-type {\n",
              "        vertical-align: middle;\n",
              "    }\n",
              "\n",
              "    .dataframe tbody tr th {\n",
              "        vertical-align: top;\n",
              "    }\n",
              "\n",
              "    .dataframe thead th {\n",
              "        text-align: right;\n",
              "    }\n",
              "</style>\n",
              "<table border=\"1\" class=\"dataframe\">\n",
              "  <thead>\n",
              "    <tr style=\"text-align: right;\">\n",
              "      <th></th>\n",
              "      <th>Unnamed: 0</th>\n",
              "      <th>comments</th>\n",
              "      <th>label</th>\n",
              "      <th>tokens</th>\n",
              "    </tr>\n",
              "  </thead>\n",
              "  <tbody>\n",
              "    <tr>\n",
              "      <th>0</th>\n",
              "      <td>0</td>\n",
              "      <td>빅토리묵ㅋㅋ</td>\n",
              "      <td>0</td>\n",
              "      <td>['빅', '토리묵', 'ㅋㅋ']</td>\n",
              "    </tr>\n",
              "    <tr>\n",
              "      <th>1</th>\n",
              "      <td>1</td>\n",
              "      <td>기자들이 어떤 질문할지도 예상 했을것이고 내편이 아닌걸 알텐데 누구라도 묵묵히 들어...</td>\n",
              "      <td>0</td>\n",
              "      <td>['기자', '들', '이', '어떤', '질문', '하', 'ㄹ지', '도', '...</td>\n",
              "    </tr>\n",
              "    <tr>\n",
              "      <th>2</th>\n",
              "      <td>2</td>\n",
              "      <td>이 ㅅㄲ가 96이란다</td>\n",
              "      <td>0</td>\n",
              "      <td>['이', 'ㅅ', 'ㄲ', '가', '96', '이', '란', '다']</td>\n",
              "    </tr>\n",
              "    <tr>\n",
              "      <th>3</th>\n",
              "      <td>3</td>\n",
              "      <td>9:24 난 여기 다양한 거 보여준다는 말이 너무 웃곀ㅋㅋ</td>\n",
              "      <td>0</td>\n",
              "      <td>['9', ':', '24', '난', '여기', '다양', '하', 'ㄴ', '거...</td>\n",
              "    </tr>\n",
              "    <tr>\n",
              "      <th>4</th>\n",
              "      <td>4</td>\n",
              "      <td>참으세요 장인어른 ㅠㅠ</td>\n",
              "      <td>0</td>\n",
              "      <td>['참으', '시', '어요', '장인', '어르', 'ㄴ', 'ㅠ', 'ㅠ']</td>\n",
              "    </tr>\n",
              "  </tbody>\n",
              "</table>\n",
              "</div>\n",
              "      <button class=\"colab-df-convert\" onclick=\"convertToInteractive('df-37e9418c-c8bd-4dd7-8dc2-10f97085f657')\"\n",
              "              title=\"Convert this dataframe to an interactive table.\"\n",
              "              style=\"display:none;\">\n",
              "        \n",
              "  <svg xmlns=\"http://www.w3.org/2000/svg\" height=\"24px\"viewBox=\"0 0 24 24\"\n",
              "       width=\"24px\">\n",
              "    <path d=\"M0 0h24v24H0V0z\" fill=\"none\"/>\n",
              "    <path d=\"M18.56 5.44l.94 2.06.94-2.06 2.06-.94-2.06-.94-.94-2.06-.94 2.06-2.06.94zm-11 1L8.5 8.5l.94-2.06 2.06-.94-2.06-.94L8.5 2.5l-.94 2.06-2.06.94zm10 10l.94 2.06.94-2.06 2.06-.94-2.06-.94-.94-2.06-.94 2.06-2.06.94z\"/><path d=\"M17.41 7.96l-1.37-1.37c-.4-.4-.92-.59-1.43-.59-.52 0-1.04.2-1.43.59L10.3 9.45l-7.72 7.72c-.78.78-.78 2.05 0 2.83L4 21.41c.39.39.9.59 1.41.59.51 0 1.02-.2 1.41-.59l7.78-7.78 2.81-2.81c.8-.78.8-2.07 0-2.86zM5.41 20L4 18.59l7.72-7.72 1.47 1.35L5.41 20z\"/>\n",
              "  </svg>\n",
              "      </button>\n",
              "      \n",
              "  <style>\n",
              "    .colab-df-container {\n",
              "      display:flex;\n",
              "      flex-wrap:wrap;\n",
              "      gap: 12px;\n",
              "    }\n",
              "\n",
              "    .colab-df-convert {\n",
              "      background-color: #E8F0FE;\n",
              "      border: none;\n",
              "      border-radius: 50%;\n",
              "      cursor: pointer;\n",
              "      display: none;\n",
              "      fill: #1967D2;\n",
              "      height: 32px;\n",
              "      padding: 0 0 0 0;\n",
              "      width: 32px;\n",
              "    }\n",
              "\n",
              "    .colab-df-convert:hover {\n",
              "      background-color: #E2EBFA;\n",
              "      box-shadow: 0px 1px 2px rgba(60, 64, 67, 0.3), 0px 1px 3px 1px rgba(60, 64, 67, 0.15);\n",
              "      fill: #174EA6;\n",
              "    }\n",
              "\n",
              "    [theme=dark] .colab-df-convert {\n",
              "      background-color: #3B4455;\n",
              "      fill: #D2E3FC;\n",
              "    }\n",
              "\n",
              "    [theme=dark] .colab-df-convert:hover {\n",
              "      background-color: #434B5C;\n",
              "      box-shadow: 0px 1px 3px 1px rgba(0, 0, 0, 0.15);\n",
              "      filter: drop-shadow(0px 1px 2px rgba(0, 0, 0, 0.3));\n",
              "      fill: #FFFFFF;\n",
              "    }\n",
              "  </style>\n",
              "\n",
              "      <script>\n",
              "        const buttonEl =\n",
              "          document.querySelector('#df-37e9418c-c8bd-4dd7-8dc2-10f97085f657 button.colab-df-convert');\n",
              "        buttonEl.style.display =\n",
              "          google.colab.kernel.accessAllowed ? 'block' : 'none';\n",
              "\n",
              "        async function convertToInteractive(key) {\n",
              "          const element = document.querySelector('#df-37e9418c-c8bd-4dd7-8dc2-10f97085f657');\n",
              "          const dataTable =\n",
              "            await google.colab.kernel.invokeFunction('convertToInteractive',\n",
              "                                                     [key], {});\n",
              "          if (!dataTable) return;\n",
              "\n",
              "          const docLinkHtml = 'Like what you see? Visit the ' +\n",
              "            '<a target=\"_blank\" href=https://colab.research.google.com/notebooks/data_table.ipynb>data table notebook</a>'\n",
              "            + ' to learn more about interactive tables.';\n",
              "          element.innerHTML = '';\n",
              "          dataTable['output_type'] = 'display_data';\n",
              "          await google.colab.output.renderOutput(dataTable, element);\n",
              "          const docLink = document.createElement('div');\n",
              "          docLink.innerHTML = docLinkHtml;\n",
              "          element.appendChild(docLink);\n",
              "        }\n",
              "      </script>\n",
              "    </div>\n",
              "  </div>\n",
              "  "
            ],
            "text/plain": [
              "   Unnamed: 0  ...                                             tokens\n",
              "0           0  ...                                 ['빅', '토리묵', 'ㅋㅋ']\n",
              "1           1  ...  ['기자', '들', '이', '어떤', '질문', '하', 'ㄹ지', '도', '...\n",
              "2           2  ...          ['이', 'ㅅ', 'ㄲ', '가', '96', '이', '란', '다']\n",
              "3           3  ...  ['9', ':', '24', '난', '여기', '다양', '하', 'ㄴ', '거...\n",
              "4           4  ...       ['참으', '시', '어요', '장인', '어르', 'ㄴ', 'ㅠ', 'ㅠ']\n",
              "\n",
              "[5 rows x 4 columns]"
            ]
          },
          "metadata": {},
          "execution_count": 6
        }
      ]
    },
    {
      "cell_type": "code",
      "source": [
        "a = train_token.tokens\n",
        "a.to_numpy()"
      ],
      "metadata": {
        "colab": {
          "base_uri": "https://localhost:8080/"
        },
        "id": "vtVu9ivoR_Do",
        "outputId": "c46407cd-1eef-4c21-d80c-7e870839e40d"
      },
      "execution_count": null,
      "outputs": [
        {
          "output_type": "execute_result",
          "data": {
            "text/plain": [
              "array([\"['빅', '토리묵', 'ㅋㅋ']\",\n",
              "       \"['기자', '들', '이', '어떤', '질문', '하', 'ㄹ지', '도', '예상', '하', '였', '을', '것', '이', '고', '내편', '이', '아니', 'ㄴ', '것', 'ㄹ', '알', '터', '이', 'ㄴ데', '누구', '이', '라도', '묵묵히', '들어가', 'ㄹ', '듯', '.', '그냥', '냅두', '어요', '.', '지켜보', '다', '보', '면', '밝히', '어', '지', '겠', '죠', '.']\",\n",
              "       \"['이', 'ㅅ', 'ㄲ', '가', '96', '이', '란', '다']\", ...,\n",
              "       \"['자꾸', '용진', '님', '집', '에서', '오', '아서', '자라', '고', '하', '는', '것', '이', '넘', '웃기', '어', 'ㅋ', 'ㅋ']\",\n",
              "       \"['혹시', '죽', '어', '보', '신적', '도', '있', '나요', '?']\",\n",
              "       \"['근데', '성매매', '하', '면', '기록', '남', '을', '터', '이', 'ㄴ데']\"],\n",
              "      dtype=object)"
            ]
          },
          "metadata": {},
          "execution_count": 7
        }
      ]
    },
    {
      "cell_type": "code",
      "source": [
        "a = pd.Series([[str(x) for x in string.strip(\"[]\").split(',')] for string in a.tolist()])\n",
        "a.to_numpy()"
      ],
      "metadata": {
        "colab": {
          "base_uri": "https://localhost:8080/"
        },
        "id": "-CvxYarWPe55",
        "outputId": "a256269a-ba73-4dd0-a266-caec7b0bf03d"
      },
      "execution_count": null,
      "outputs": [
        {
          "output_type": "execute_result",
          "data": {
            "text/plain": [
              "array([list([\"'빅'\", \" '토리묵'\", \" 'ㅋㅋ'\"]),\n",
              "       list([\"'기자'\", \" '들'\", \" '이'\", \" '어떤'\", \" '질문'\", \" '하'\", \" 'ㄹ지'\", \" '도'\", \" '예상'\", \" '하'\", \" '였'\", \" '을'\", \" '것'\", \" '이'\", \" '고'\", \" '내편'\", \" '이'\", \" '아니'\", \" 'ㄴ'\", \" '것'\", \" 'ㄹ'\", \" '알'\", \" '터'\", \" '이'\", \" 'ㄴ데'\", \" '누구'\", \" '이'\", \" '라도'\", \" '묵묵히'\", \" '들어가'\", \" 'ㄹ'\", \" '듯'\", \" '.'\", \" '그냥'\", \" '냅두'\", \" '어요'\", \" '.'\", \" '지켜보'\", \" '다'\", \" '보'\", \" '면'\", \" '밝히'\", \" '어'\", \" '지'\", \" '겠'\", \" '죠'\", \" '.'\"]),\n",
              "       list([\"'이'\", \" 'ㅅ'\", \" 'ㄲ'\", \" '가'\", \" '96'\", \" '이'\", \" '란'\", \" '다'\"]),\n",
              "       ...,\n",
              "       list([\"'자꾸'\", \" '용진'\", \" '님'\", \" '집'\", \" '에서'\", \" '오'\", \" '아서'\", \" '자라'\", \" '고'\", \" '하'\", \" '는'\", \" '것'\", \" '이'\", \" '넘'\", \" '웃기'\", \" '어'\", \" 'ㅋ'\", \" 'ㅋ'\"]),\n",
              "       list([\"'혹시'\", \" '죽'\", \" '어'\", \" '보'\", \" '신적'\", \" '도'\", \" '있'\", \" '나요'\", \" '?'\"]),\n",
              "       list([\"'근데'\", \" '성매매'\", \" '하'\", \" '면'\", \" '기록'\", \" '남'\", \" '을'\", \" '터'\", \" '이'\", \" 'ㄴ데'\"])],\n",
              "      dtype=object)"
            ]
          },
          "metadata": {},
          "execution_count": 8
        }
      ]
    },
    {
      "cell_type": "code",
      "source": [
        "tokenizer = Tokenizer(oov_token=\"<OOV>\")\n",
        "tokenizer.fit_on_texts(train_token['comments'].astype(str))\n",
        "vocab=tokenizer.word_index"
      ],
      "metadata": {
        "id": "STiL25RwUexu"
      },
      "execution_count": null,
      "outputs": []
    },
    {
      "cell_type": "code",
      "source": [
        "vocab_size = len(vocab)\n",
        "embedding_dim = 128\n",
        "max_len = 400\n",
        "n_class = 2"
      ],
      "metadata": {
        "id": "OHvfyXhBX3dr"
      },
      "execution_count": null,
      "outputs": []
    },
    {
      "cell_type": "code",
      "source": [
        "bi_LSTM = Sequential([Embedding(vocab_size, embedding_dim, input_length = max_len),\n",
        "                       Bidirectional(LSTM(64, return_sequences=True)),\n",
        "                       Bidirectional(LSTM(64, return_sequences=False)),\n",
        "                       Dropout(0.2),\n",
        "                       Dense(1, activation='sigmoid')\n",
        "])\n",
        "\n",
        "\n",
        "bi_LSTM.compile(loss='binary_crossentropy', optimizer=Adam(lr=0.001), metrics=['accuracy'])\n",
        "bi_LSTM.summary()"
      ],
      "metadata": {
        "colab": {
          "base_uri": "https://localhost:8080/"
        },
        "id": "zinLfht4Yg8m",
        "outputId": "ed0f221c-8455-4793-9b04-337f047f7c82"
      },
      "execution_count": null,
      "outputs": [
        {
          "output_type": "stream",
          "name": "stdout",
          "text": [
            "Model: \"sequential\"\n",
            "_________________________________________________________________\n",
            " Layer (type)                Output Shape              Param #   \n",
            "=================================================================\n",
            " embedding (Embedding)       (None, 400, 128)          14217984  \n",
            "                                                                 \n",
            " bidirectional (Bidirectiona  (None, 400, 128)         98816     \n",
            " l)                                                              \n",
            "                                                                 \n",
            " bidirectional_1 (Bidirectio  (None, 128)              98816     \n",
            " nal)                                                            \n",
            "                                                                 \n",
            " dropout (Dropout)           (None, 128)               0         \n",
            "                                                                 \n",
            " dense (Dense)               (None, 1)                 129       \n",
            "                                                                 \n",
            "=================================================================\n",
            "Total params: 14,415,745\n",
            "Trainable params: 14,415,745\n",
            "Non-trainable params: 0\n",
            "_________________________________________________________________\n"
          ]
        },
        {
          "output_type": "stream",
          "name": "stderr",
          "text": [
            "/usr/local/lib/python3.7/dist-packages/keras/optimizer_v2/adam.py:105: UserWarning: The `lr` argument is deprecated, use `learning_rate` instead.\n",
            "  super(Adam, self).__init__(name, **kwargs)\n"
          ]
        }
      ]
    },
    {
      "cell_type": "code",
      "source": [
        "#교차검증\n",
        "n_fold = 3\n",
        "seed = 722\n",
        "\n",
        "cv = StratifiedKFold(n_splits = n_fold, shuffle = True, random_state = seed)\n",
        "\n",
        "#예측값 공간\n",
        "y_prob = np.zeros((X_test.shape[0], 1))\n",
        "\n",
        "#조기종료\n",
        "es = EarlyStopping(monitor = 'val_loss', min_delta = 0.001, patience = 3,\n",
        "                   verbose = 1, mode = min, baseline = None, restore_best_weights=True)\n",
        "\n",
        "k=0\n",
        "for i, (i_trn, i_val) in enumerate(cv.split(X_train, y_train), 1) :\n",
        "  print('{}번째 교차검증'.format(k+1))\n",
        "\n",
        "  bi_LSTM.fit(X_train[i_trn],\n",
        "              (y_train[i_trn]),\n",
        "              validation_data=(X_train[i_val], (y_train[i_val])),\n",
        "              epochs = 10,\n",
        "              batch_size = 256,\n",
        "              callbacks=[es])\n",
        "  \n",
        "  y_prob += bi_LSTM.predict(X_test)\n",
        "  k += 1\n",
        "\n",
        "  \n"
      ],
      "metadata": {
        "colab": {
          "base_uri": "https://localhost:8080/"
        },
        "id": "CN3CrLEhaO5J",
        "outputId": "2de43102-7c04-4faf-b1d9-44008b3ae55e"
      },
      "execution_count": null,
      "outputs": [
        {
          "output_type": "stream",
          "name": "stdout",
          "text": [
            "WARNING:tensorflow:EarlyStopping mode <built-in function min> is unknown, fallback to auto mode.\n",
            "1번째 교차검증\n",
            "Epoch 1/10\n",
            "111/111 [==============================] - 43s 387ms/step - loss: 0.0302 - accuracy: 0.9902 - val_loss: 0.0704 - val_accuracy: 0.9772\n",
            "Epoch 2/10\n",
            "111/111 [==============================] - 43s 387ms/step - loss: 0.0251 - accuracy: 0.9920 - val_loss: 0.0793 - val_accuracy: 0.9745\n",
            "Epoch 3/10\n",
            "111/111 [==============================] - 43s 387ms/step - loss: 0.0194 - accuracy: 0.9938 - val_loss: 0.0878 - val_accuracy: 0.9719\n",
            "Epoch 4/10\n",
            "111/111 [==============================] - ETA: 0s - loss: 0.0143 - accuracy: 0.9956Restoring model weights from the end of the best epoch: 1.\n",
            "111/111 [==============================] - 43s 387ms/step - loss: 0.0143 - accuracy: 0.9956 - val_loss: 0.1015 - val_accuracy: 0.9709\n",
            "Epoch 00004: early stopping\n",
            "2번째 교차검증\n",
            "Epoch 1/10\n",
            "111/111 [==============================] - 43s 389ms/step - loss: 0.0474 - accuracy: 0.9844 - val_loss: 0.0304 - val_accuracy: 0.9898\n",
            "Epoch 2/10\n",
            "111/111 [==============================] - 43s 388ms/step - loss: 0.0243 - accuracy: 0.9927 - val_loss: 0.0386 - val_accuracy: 0.9877\n",
            "Epoch 3/10\n",
            "111/111 [==============================] - 43s 387ms/step - loss: 0.0154 - accuracy: 0.9951 - val_loss: 0.0454 - val_accuracy: 0.9848\n",
            "Epoch 4/10\n",
            "111/111 [==============================] - ETA: 0s - loss: 0.0115 - accuracy: 0.9969Restoring model weights from the end of the best epoch: 1.\n",
            "111/111 [==============================] - 43s 388ms/step - loss: 0.0115 - accuracy: 0.9969 - val_loss: 0.0616 - val_accuracy: 0.9812\n",
            "Epoch 00004: early stopping\n",
            "3번째 교차검증\n",
            "Epoch 1/10\n",
            "111/111 [==============================] - 43s 389ms/step - loss: 0.0359 - accuracy: 0.9882 - val_loss: 0.0252 - val_accuracy: 0.9915\n",
            "Epoch 2/10\n",
            "111/111 [==============================] - 43s 387ms/step - loss: 0.0238 - accuracy: 0.9931 - val_loss: 0.0314 - val_accuracy: 0.9890\n",
            "Epoch 3/10\n",
            "111/111 [==============================] - 43s 388ms/step - loss: 0.0152 - accuracy: 0.9953 - val_loss: 0.0350 - val_accuracy: 0.9876\n",
            "Epoch 4/10\n",
            "111/111 [==============================] - ETA: 0s - loss: 0.0116 - accuracy: 0.9967Restoring model weights from the end of the best epoch: 1.\n",
            "111/111 [==============================] - 43s 388ms/step - loss: 0.0116 - accuracy: 0.9967 - val_loss: 0.0430 - val_accuracy: 0.9858\n",
            "Epoch 00004: early stopping\n"
          ]
        }
      ]
    },
    {
      "cell_type": "code",
      "source": [
        "import matplotlib.pyplot as plt"
      ],
      "metadata": {
        "id": "KL-CDN3zPJtS"
      },
      "execution_count": null,
      "outputs": []
    },
    {
      "cell_type": "code",
      "source": [
        "fpr, tpr, thr = roc_curve(y_test, y_prob)\n",
        "\n",
        "idx_list = np.arange(1, len(thr), 2000)\n",
        "\n",
        "plt.plot(fpr, tpr,\n",
        "        c = 'red',\n",
        "        label = \"AUC :\"+str(round(roc_auc_score(y_test, y_prob), 7)))\n",
        "plt.plot([0,1], [0,1], ls='--', c='black')\n",
        "plt.title(\"Bi-LSTM ROC Curve\")\n",
        "plt.legend(loc=0)\n",
        "for idx in idx_list:\n",
        "  text = str(round(thr[idx], 2))\n",
        "  plt.text(fpr[idx], tpr[idx], text)"
      ],
      "metadata": {
        "colab": {
          "base_uri": "https://localhost:8080/",
          "height": 281
        },
        "id": "m3E_OwuTNuSF",
        "outputId": "747e82d2-a3c8-460c-a9f8-53af752d1387"
      },
      "execution_count": null,
      "outputs": [
        {
          "output_type": "display_data",
          "data": {
            "image/png": "[encoded data removed]",
            "text/plain": [
              "<Figure size 432x288 with 1 Axes>"
            ]
          },
          "metadata": {
            "needs_background": "light"
          }
        }
      ]
    },
    {
      "cell_type": "code",
      "source": [
        "data = {'fpr' : fpr,\n",
        "        'tpr' : tpr,\n",
        "        'thr' : thr}\n",
        "\n",
        "dff = pd.DataFrame(data)\n",
        "\n",
        "dff.to_csv('/content/drive/MyDrive/project1/DeepLearning/bi_lstm_roc_curve')"
      ],
      "metadata": {
        "id": "9bLPP2IfPct5"
      },
      "execution_count": null,
      "outputs": []
    },
    {
      "cell_type": "code",
      "source": [
        "bi_LSTM.save('bi_lstm.h5')"
      ],
      "metadata": {
        "id": "810Y7yzwQeFq"
      },
      "execution_count": null,
      "outputs": []
    }
  ]
}