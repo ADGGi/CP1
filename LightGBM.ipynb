{
  "nbformat": 4,
  "nbformat_minor": 0,
  "metadata": {
    "colab": {
      "name": "LightGBM.ipynb",
      "provenance": [],
      "mount_file_id": "1UrGc_StASorxF-XiSSTFh0n1yl9YHM16",
      "authorship_tag": "ABX9TyNi+iK4dLvm1JgOCG5o7zNd",
      "include_colab_link": true
    },
    "kernelspec": {
      "name": "python3",
      "display_name": "Python 3"
    },
    "language_info": {
      "name": "python"
    },
    "accelerator": "GPU"
  },
  "cells": [
    {
      "cell_type": "markdown",
      "metadata": {
        "id": "view-in-github",
        "colab_type": "text"
      },
      "source": [
        "<a href=\"https://colab.research.google.com/github/ADGGi/CP1/blob/main/LightGBM.ipynb\" target=\"_parent\"><img src=\"https://colab.research.google.com/assets/colab-badge.svg\" alt=\"Open In Colab\"/></a>"
      ]
    },
    {
      "cell_type": "code",
      "source": [
        "!pip install -U scikit-learn\n",
        "!pip install -U imbalanced-learn"
      ],
      "metadata": {
        "colab": {
          "base_uri": "https://localhost:8080/"
        },
        "id": "7eAHCd5ZOrku",
        "outputId": "f923bece-62a7-4b87-8f67-93a5ccdd6e04"
      },
      "execution_count": null,
      "outputs": [
        {
          "output_type": "stream",
          "name": "stdout",
          "text": [
            "Requirement already satisfied: scikit-learn in /usr/local/lib/python3.7/dist-packages (1.0.1)\n",
            "Requirement already satisfied: scipy>=1.1.0 in /usr/local/lib/python3.7/dist-packages (from scikit-learn) (1.4.1)\n",
            "Requirement already satisfied: joblib>=0.11 in /usr/local/lib/python3.7/dist-packages (from scikit-learn) (1.1.0)\n",
            "Requirement already satisfied: threadpoolctl>=2.0.0 in /usr/local/lib/python3.7/dist-packages (from scikit-learn) (3.0.0)\n",
            "Requirement already satisfied: numpy>=1.14.6 in /usr/local/lib/python3.7/dist-packages (from scikit-learn) (1.19.5)\n",
            "Requirement already satisfied: imbalanced-learn in /usr/local/lib/python3.7/dist-packages (0.8.1)\n",
            "Requirement already satisfied: scikit-learn>=0.24 in /usr/local/lib/python3.7/dist-packages (from imbalanced-learn) (1.0.1)\n",
            "Requirement already satisfied: joblib>=0.11 in /usr/local/lib/python3.7/dist-packages (from imbalanced-learn) (1.1.0)\n",
            "Requirement already satisfied: numpy>=1.13.3 in /usr/local/lib/python3.7/dist-packages (from imbalanced-learn) (1.19.5)\n",
            "Requirement already satisfied: scipy>=0.19.1 in /usr/local/lib/python3.7/dist-packages (from imbalanced-learn) (1.4.1)\n",
            "Requirement already satisfied: threadpoolctl>=2.0.0 in /usr/local/lib/python3.7/dist-packages (from scikit-learn>=0.24->imbalanced-learn) (3.0.0)\n"
          ]
        }
      ]
    },
    {
      "cell_type": "code",
      "source": [
        "#데이터 불러오기\n",
        "import pandas as pd\n",
        "import numpy as np\n",
        "\n",
        "X_train = pd.read_csv('/content/drive/MyDrive/project1/X_train.csv')\n",
        "X_train = X_train['tokens']\n",
        "y_train = pd.read_csv('/content/drive/MyDrive/project1/y_train.csv')\n",
        "y_train = y_train['label']\n",
        "X_test = pd.read_csv('/content/drive/MyDrive/project1/X_test.csv')\n",
        "X_test = X_test['tokens']\n",
        "y_test = pd.read_csv('/content/drive/MyDrive/project1/y_test.csv')\n",
        "y_test = y_test['label']\n",
        "train = pd.read_csv('/content/drive/MyDrive/project1/train_token.csv')\n",
        "train = train[['comments', 'label', 'tokens']]\n",
        "test = pd.read_csv('/content/drive/MyDrive/project1/test_token.csv')\n",
        "test = test[['comments', 'label', 'tokens']]"
      ],
      "metadata": {
        "id": "eFTg6LV6kuLW"
      },
      "execution_count": null,
      "outputs": []
    },
    {
      "cell_type": "code",
      "source": [
        "str_match = [s for s in X_train if \"nan\" in s]\n",
        "print(str_match)"
      ],
      "metadata": {
        "colab": {
          "base_uri": "https://localhost:8080/"
        },
        "id": "9f55KKYdcaJW",
        "outputId": "c38a0169-f71a-41c9-adf4-b65064d31058"
      },
      "execution_count": null,
      "outputs": [
        {
          "output_type": "stream",
          "name": "stderr",
          "text": [
            "/usr/local/lib/python3.7/dist-packages/ipykernel_launcher.py:1: FutureWarning: elementwise comparison failed; returning scalar instead, but in the future will perform elementwise comparison\n",
            "  \"\"\"Entry point for launching an IPython kernel.\n"
          ]
        },
        {
          "output_type": "stream",
          "name": "stdout",
          "text": [
            "[]\n"
          ]
        }
      ]
    },
    {
      "cell_type": "code",
      "source": [
        "#각 token이 str로 묶여서 list로 변환해줌\n",
        "X_train = pd.Series([[int(x) for x in string.strip('[]').split(',')] for string in X_train.tolist()])\n",
        "X_test = pd.Series([[int(x) for x in string.strip('[]').split(',')] for string in X_test.tolist()])"
      ],
      "metadata": {
        "id": "oelmp8WwWjdk"
      },
      "execution_count": null,
      "outputs": []
    },
    {
      "cell_type": "code",
      "source": [
        "np.array(X_train)"
      ],
      "metadata": {
        "colab": {
          "base_uri": "https://localhost:8080/"
        },
        "id": "AAA19cZMXHnH",
        "outputId": "998ebcec-d3a1-40d0-cc22-2b882f7ee10c"
      },
      "execution_count": null,
      "outputs": [
        {
          "output_type": "execute_result",
          "data": {
            "text/plain": [
              "array([list([2600, 11749, 9]),\n",
              "       list([976, 16, 2, 564, 1216, 3, 814, 12, 1999, 3, 62, 28, 29, 2, 7, 9120, 2, 56, 6, 29, 24, 93, 250, 2, 68, 159, 2, 288, 11750, 635, 24, 111, 4, 161, 7553, 49, 4, 6522, 10, 20, 34, 1483, 13, 18, 59, 234, 4]),\n",
              "       list([2, 685, 2831, 8, 11751, 2, 565, 10]), ...,\n",
              "       list([862, 2569, 51, 271, 58, 63, 94, 883, 7, 3, 5, 29, 2, 155, 204, 13, 11, 11]),\n",
              "       list([1206, 293, 13, 20, 46592, 12, 30, 362, 17]),\n",
              "       list([181, 4110, 3, 34, 2914, 184, 28, 250, 2, 68])], dtype=object)"
            ]
          },
          "metadata": {},
          "execution_count": 61
        }
      ]
    },
    {
      "cell_type": "code",
      "source": [
        "from tensorflow.keras.preprocessing.sequence import pad_sequences\n",
        "\n",
        "max_len=400\n",
        "X_train = pad_sequences(np.array(X_train), maxlen=max_len)\n",
        "X_test = pad_sequences(np.array(X_test), maxlen=max_len)\n",
        "\n",
        "print(\"X_train shape:\", X_train.shape)\n",
        "print(\"X_test shape:\", X_test.shape)"
      ],
      "metadata": {
        "colab": {
          "base_uri": "https://localhost:8080/"
        },
        "id": "PV-yh8Dsrtin",
        "outputId": "d7f603d6-6ed5-4c9f-f976-e6e93a975ab5"
      },
      "execution_count": null,
      "outputs": [
        {
          "output_type": "stream",
          "name": "stdout",
          "text": [
            "X_train shape: (42539, 400)\n",
            "X_test shape: (10635, 400)\n"
          ]
        }
      ]
    },
    {
      "cell_type": "code",
      "source": [
        "from sklearn.preprocessing import LabelEncoder\n",
        "\n",
        "le = LabelEncoder()\n",
        "y_train = le.fit_transform(y_train)\n",
        "y_test = le.transform(y_test)"
      ],
      "metadata": {
        "id": "ln4uMFv0osON"
      },
      "execution_count": null,
      "outputs": []
    },
    {
      "cell_type": "code",
      "source": [
        "print('X_train shape :', X_train.shape)\n",
        "print('y_train shape :', y_train.shape)\n",
        "\n",
        "print('\\nX_test shape :', X_test.shape)\n",
        "print('y_test shape :', y_test.shape)"
      ],
      "metadata": {
        "colab": {
          "base_uri": "https://localhost:8080/"
        },
        "id": "l76xgze6aDi-",
        "outputId": "1925ebc5-7944-4b15-9d35-10c657012e7f"
      },
      "execution_count": null,
      "outputs": [
        {
          "output_type": "stream",
          "name": "stdout",
          "text": [
            "X_train shape : (42539, 400)\n",
            "y_train shape : (42539,)\n",
            "\n",
            "X_test shape : (10635, 400)\n",
            "y_test shape : (10635,)\n"
          ]
        }
      ]
    },
    {
      "cell_type": "code",
      "source": [
        "from imblearn.over_sampling import SMOTE"
      ],
      "metadata": {
        "id": "cEl_xZboN4ag"
      },
      "execution_count": null,
      "outputs": []
    },
    {
      "cell_type": "code",
      "source": [
        "smote = SMOTE(random_state=722)\n",
        "X_train_smote, y_train_smote = smote.fit_resample(X_train, y_train)"
      ],
      "metadata": {
        "id": "CtEetsdMOA6O"
      },
      "execution_count": null,
      "outputs": []
    },
    {
      "cell_type": "code",
      "source": [
        "#smote 후 train shape\n",
        "\n",
        "print('X_train_smote shape :', X_train_smote.shape)\n",
        "print('y_train_smote shape :', y_train_smote.shape)"
      ],
      "metadata": {
        "colab": {
          "base_uri": "https://localhost:8080/"
        },
        "id": "PYUvSXh6PJDp",
        "outputId": "45b0e19b-5b4d-41b2-a6da-3508524046ed"
      },
      "execution_count": null,
      "outputs": [
        {
          "output_type": "stream",
          "name": "stdout",
          "text": [
            "X_train_smote shape : (74320, 400)\n",
            "y_train_smote shape : (74320,)\n"
          ]
        }
      ]
    },
    {
      "cell_type": "code",
      "source": [
        "np.save('/content/drive/MyDrive/project1/dataset/arrayset/X_train_smote', X_train_smote)\n",
        "np.save('/content/drive/MyDrive/project1/dataset/arrayset/y_train_smote', y_train_smote)\n",
        "np.save('/content/drive/MyDrive/project1/dataset/arrayset/X_train', X_train)\n",
        "np.save('/content/drive/MyDrive/project1/dataset/arrayset/X_test', X_test)\n",
        "np.save('/content/drive/MyDrive/project1/dataset/arrayset/y_train', y_train)\n",
        "np.save('/content/drive/MyDrive/project1/dataset/arrayset/y_test', y_test)"
      ],
      "metadata": {
        "id": "FVgePh1bxt6c"
      },
      "execution_count": null,
      "outputs": []
    },
    {
      "cell_type": "code",
      "execution_count": null,
      "metadata": {
        "id": "tdrDwACWkoSV"
      },
      "outputs": [],
      "source": [
        "from lightgbm import LGBMClassifier, Booster\n",
        "from sklearn.model_selection import StratifiedGroupKFold, train_test_split, GridSearchCV\n",
        "from sklearn.metrics import make_scorer, f1_score, roc_auc_score"
      ]
    },
    {
      "cell_type": "code",
      "source": [
        "#cv = StratifiedGroupKFold(n_splits=5)"
      ],
      "metadata": {
        "id": "ebrrPJYCmAUZ"
      },
      "execution_count": null,
      "outputs": []
    },
    {
      "cell_type": "code",
      "source": [
        "params = {'n_estimators':[150,200,300,400],\n",
        "          'max_depth':[10,15,20,],\n",
        "          'min_child_samples':[20,40,60],\n",
        "          'subsample':[0.8, 1],\n",
        "          'class_weight':[{0: w} for w in [1,3,5,7,9]]}\n",
        "\n",
        "lgbm = LGBMClassifier()\n",
        "clf = GridSearchCV(lgbm, param_grid=params, cv=3,\n",
        "                         verbose=1, n_jobs=-1)\n",
        "clf.fit(X_train, y_train)"
      ],
      "metadata": {
        "colab": {
          "base_uri": "https://localhost:8080/"
        },
        "id": "3XC6mx5UnKRe",
        "outputId": "288282de-9d61-47b1-d633-1fd6c29cdd61"
      },
      "execution_count": null,
      "outputs": [
        {
          "output_type": "stream",
          "name": "stdout",
          "text": [
            "Fitting 3 folds for each of 360 candidates, totalling 1080 fits\n"
          ]
        },
        {
          "output_type": "execute_result",
          "data": {
            "text/plain": [
              "GridSearchCV(cv=3, estimator=LGBMClassifier(), n_jobs=-1,\n",
              "             param_grid={'class_weight': [{0: 1}, {0: 3}, {0: 5}, {0: 7},\n",
              "                                          {0: 9}],\n",
              "                         'max_depth': [10, 15, 20],\n",
              "                         'min_child_samples': [20, 40, 60],\n",
              "                         'n_estimators': [150, 200, 300, 400],\n",
              "                         'subsample': [0.8, 1]},\n",
              "             verbose=1)"
            ]
          },
          "metadata": {},
          "execution_count": 97
        }
      ]
    },
    {
      "cell_type": "code",
      "source": [
        "print('parameters :', clf.best_params_)\n",
        "print('best score :', clf.best_score_)"
      ],
      "metadata": {
        "colab": {
          "base_uri": "https://localhost:8080/"
        },
        "id": "OS2XjjUzYpHK",
        "outputId": "b29373ed-4752-4ae1-9ff7-92b0e399576a"
      },
      "execution_count": null,
      "outputs": [
        {
          "output_type": "stream",
          "name": "stdout",
          "text": [
            "parameters : {'class_weight': {0: 1}, 'max_depth': 20, 'min_child_samples': 20, 'n_estimators': 400, 'subsample': 0.8}\n",
            "best score : 0.8749617996220199\n"
          ]
        }
      ]
    },
    {
      "cell_type": "code",
      "source": [
        "parameters = {'class_weight': {0: 1}, 'max_depth': 20, 'min_child_samples': 20, 'n_estimators': 400, 'subsample': 0.8}"
      ],
      "metadata": {
        "id": "ni8RSDTiJbtx"
      },
      "execution_count": null,
      "outputs": []
    },
    {
      "cell_type": "code",
      "source": [
        "lgbm_test = LGBMClassifier(class_weight = {0: 1},\n",
        "                           max_depth = 20,\n",
        "                           min_child_samples = 20,\n",
        "                           n_estimators = 400,\n",
        "                           subsamples = 0.8)\n",
        "\n",
        "lgbm_test.fit(X_train, y_train)"
      ],
      "metadata": {
        "colab": {
          "base_uri": "https://localhost:8080/"
        },
        "id": "Mry4uXheJnsr",
        "outputId": "ff7ad9ce-e70c-40b4-85f6-d502cd18de4f"
      },
      "execution_count": null,
      "outputs": [
        {
          "output_type": "execute_result",
          "data": {
            "text/plain": [
              "LGBMClassifier(class_weight={0: 1}, max_depth=20, n_estimators=400,\n",
              "               subsamples=0.8)"
            ]
          },
          "metadata": {},
          "execution_count": 100
        }
      ]
    },
    {
      "cell_type": "code",
      "source": [
        "y_prob = lgbm_test.predict_proba(X_test)[:, 1]\n",
        "y_label = y_prob>0.5"
      ],
      "metadata": {
        "id": "6IvI1nBIKGQq"
      },
      "execution_count": null,
      "outputs": []
    },
    {
      "cell_type": "code",
      "source": [
        "from sklearn.metrics import roc_curve\n",
        "import matplotlib.pyplot as plt\n",
        "\n",
        "fpr, tpr, thr = roc_curve(y_test, y_prob)\n",
        "\n",
        "idx_list = np.arange(1, len(thr), 1000)\n",
        "\n",
        "plt.plot(fpr, tpr,\n",
        "         c='red',\n",
        "         label=\"AUC :\"+str(round(roc_auc_score(y_test, y_prob), 7)))\n",
        "plt.plot([1,0], [1,0], ls='--', c='black')\n",
        "plt.title(\"LGBMClassifier ROC Curve\")\n",
        "plt.legend(loc=0)\n",
        "for idx in idx_list :\n",
        "  text = str(round(thr[idx], 2))\n",
        "  plt.text(fpr[idx], tpr[idx], text)"
      ],
      "metadata": {
        "colab": {
          "base_uri": "https://localhost:8080/",
          "height": 281
        },
        "id": "EBWxIen0KkHF",
        "outputId": "fb9f24fc-c3ab-4c60-c7fe-5364cc120a73"
      },
      "execution_count": null,
      "outputs": [
        {
          "output_type": "display_data",
          "data": {
            "image/png": "[encoded data removed]",
            "text/plain": [
              "<Figure size 432x288 with 1 Axes>"
            ]
          },
          "metadata": {
            "needs_background": "light"
          }
        }
      ]
    },
    {
      "cell_type": "code",
      "source": [
        "lgbm_auc ={\n",
        "    'fpr' : fpr,\n",
        "    'tpr' : tpr,\n",
        "    'thr' : thr\n",
        "}\n",
        "\n",
        "df=pd.DataFrame(lgbm_auc)\n",
        "df.to_csv('/content/drive/MyDrive/project1/LGBMClassifier/lgbm_roc_curve.csv')"
      ],
      "metadata": {
        "id": "L8de-sO5M8vy"
      },
      "execution_count": null,
      "outputs": []
    },
    {
      "cell_type": "code",
      "source": [
        "import pickle\n",
        "from joblib import dump, load\n",
        "from tensorflow.keras.preprocessing.text import Tokenizer\n",
        "import os"
      ],
      "metadata": {
        "id": "MdxhWobAPkWP"
      },
      "execution_count": null,
      "outputs": []
    },
    {
      "cell_type": "code",
      "source": [
        "#모델저장\n",
        "dump(lgbm_test, 'LGB.pkl')"
      ],
      "metadata": {
        "colab": {
          "base_uri": "https://localhost:8080/"
        },
        "id": "J8sWELHZQSgq",
        "outputId": "69282edd-0525-4ba6-a296-162bf20ed370"
      },
      "execution_count": null,
      "outputs": [
        {
          "output_type": "execute_result",
          "data": {
            "text/plain": [
              "['LGB.pkl']"
            ]
          },
          "metadata": {},
          "execution_count": 120
        }
      ]
    },
    {
      "cell_type": "code",
      "source": [
        "def load_tokenizer(path):\n",
        "  with open(path, 'rb') as f:\n",
        "    tokenizer = pickle.load(f)\n",
        "  return tokenizer\n",
        "\n",
        "tokenizer_name = 'comments_tokenizer.pickle'\n",
        "tokenizer_path = os.path.join('/content/drive/MyDrive/project1/tokenizer/comments_tokenizer.pickle')\n",
        "\n",
        "tokenizer = load_tokenizer(tokenizer_path)"
      ],
      "metadata": {
        "id": "U-rdpeP9Ra_r"
      },
      "execution_count": null,
      "outputs": []
    },
    {
      "cell_type": "markdown",
      "source": [
        "#SMOTE data set"
      ],
      "metadata": {
        "id": "-qkIDlfYW-DV"
      }
    },
    {
      "cell_type": "code",
      "source": [
        "params = {'n_estimators':[150,200,300,400],\n",
        "          'max_depth':[10,15,20,],\n",
        "          'min_child_samples':[20,40,60],\n",
        "          'subsample':[0.8, 1],\n",
        "          'class_weight':[{0: w} for w in [1,3,5,7,9]]}\n",
        "\n",
        "lgbm = LGBMClassifier()\n",
        "clf = GridSearchCV(lgbm, param_grid=params, cv=3,\n",
        "                         verbose=1, n_jobs=-1)\n",
        "clf.fit(X_train_smote, y_train_smote)"
      ],
      "metadata": {
        "colab": {
          "base_uri": "https://localhost:8080/"
        },
        "id": "yII0B1K2XAZ5",
        "outputId": "9da16490-d35b-42e9-f66a-4c6ed9e0b63c"
      },
      "execution_count": null,
      "outputs": [
        {
          "output_type": "stream",
          "name": "stdout",
          "text": [
            "Fitting 3 folds for each of 360 candidates, totalling 1080 fits\n"
          ]
        },
        {
          "output_type": "execute_result",
          "data": {
            "text/plain": [
              "GridSearchCV(cv=3, estimator=LGBMClassifier(), n_jobs=-1,\n",
              "             param_grid={'class_weight': [{0: 1}, {0: 3}, {0: 5}, {0: 7},\n",
              "                                          {0: 9}],\n",
              "                         'max_depth': [10, 15, 20],\n",
              "                         'min_child_samples': [20, 40, 60],\n",
              "                         'n_estimators': [150, 200, 300, 400],\n",
              "                         'subsample': [0.8, 1]},\n",
              "             verbose=1)"
            ]
          },
          "metadata": {},
          "execution_count": 138
        }
      ]
    },
    {
      "cell_type": "code",
      "source": [
        "print('parameters :', clf.best_params_)\n",
        "print('best score :', clf.best_score_)"
      ],
      "metadata": {
        "colab": {
          "base_uri": "https://localhost:8080/"
        },
        "id": "_SIvbaWpXHsD",
        "outputId": "4164a990-11a0-4775-d1e8-fac6d82431d7"
      },
      "execution_count": null,
      "outputs": [
        {
          "output_type": "stream",
          "name": "stdout",
          "text": [
            "parameters : {'class_weight': {0: 1}, 'max_depth': 20, 'min_child_samples': 60, 'n_estimators': 400, 'subsample': 0.8}\n",
            "best score : 0.7068763251407791\n"
          ]
        }
      ]
    },
    {
      "cell_type": "code",
      "source": [
        "smote_parameters = {'class_weight': {0: 1}, 'max_depth': 20, 'min_child_samples': 60, 'n_estimators': 400, 'subsample':0.8 }"
      ],
      "metadata": {
        "id": "VPsW6E2Kb5WU"
      },
      "execution_count": null,
      "outputs": []
    },
    {
      "cell_type": "code",
      "source": [
        "lgbm_smote_test = LGBMClassifier(class_weight = {0: 1},\n",
        "                                 max_depth = 20,\n",
        "                                 min_child_samples = 60,\n",
        "                                 n_estimators = 400,\n",
        "                                 subsamples = 0.8)\n",
        "\n",
        "lgbm_smote_test.fit(X_train_smote, y_train_smote)"
      ],
      "metadata": {
        "colab": {
          "base_uri": "https://localhost:8080/"
        },
        "id": "yRkGnOk0cCaA",
        "outputId": "f23de2c6-bf86-4682-f62f-88fbb28d5a0a"
      },
      "execution_count": null,
      "outputs": [
        {
          "output_type": "execute_result",
          "data": {
            "text/plain": [
              "LGBMClassifier(class_weight={0: 1}, max_depth=20, min_child_samples=60,\n",
              "               n_estimators=400, subsamples=0.8)"
            ]
          },
          "metadata": {},
          "execution_count": 141
        }
      ]
    },
    {
      "cell_type": "code",
      "source": [
        "y_prob_smote = lgbm_smote_test.predict_proba(X_test)[:, 1]\n",
        "y_label = y_prob_smote>0.5"
      ],
      "metadata": {
        "id": "EDaTVq3Gcp5G"
      },
      "execution_count": null,
      "outputs": []
    },
    {
      "cell_type": "code",
      "source": [
        "fpr_smote, tpr_smote, thr_smote = roc_curve(y_test, y_prob_smote)\n",
        "\n",
        "idx_list = np.arange(1, len(thr_smote), 1000)\n",
        "\n",
        "plt.plot(fpr_smote, tpr_smote,\n",
        "         c='red',\n",
        "         label=\"AUC :\"+str(round(roc_auc_score(y_test, y_prob_smote), 7)))\n",
        "plt.plot([1,0], [1,0], ls='--', c='black')\n",
        "plt.title(\"LGBMClassifier ROC Curve\")\n",
        "plt.legend(loc=0)\n",
        "for idx in idx_list :\n",
        "  text = str(round(thr_smote[idx], 2))\n",
        "  plt.text(fpr_smote[idx], tpr_smote[idx], text)"
      ],
      "metadata": {
        "colab": {
          "base_uri": "https://localhost:8080/",
          "height": 281
        },
        "id": "I2Xw4gMOcxfU",
        "outputId": "8b6712fb-38e4-4a14-ae23-72ea5755a56f"
      },
      "execution_count": null,
      "outputs": [
        {
          "output_type": "display_data",
          "data": {
            "image/png": "[encoded data removed]",
            "text/plain": [
              "<Figure size 432x288 with 1 Axes>"
            ]
          },
          "metadata": {
            "needs_background": "light"
          }
        }
      ]
    }
  ]
}